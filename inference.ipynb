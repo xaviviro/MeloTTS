{
 "cells": [
  {
   "cell_type": "code",
   "execution_count": null,
   "id": "632ff36e-a20e-4865-9bc5-cb113fcfeec0",
   "metadata": {},
   "outputs": [],
   "source": [
    "from melo.api import TTS\n",
    "\n",
    "# Speed is adjustable\n",
    "speed = 1.1\n",
    "\n",
    "# CPU is sufficient for real-time inference.\n",
    "# You can also change to cuda:0\n",
    "device = 'cuda'\n",
    "\n",
    "text = \"El resplandor del sol acaricia las olas, pintando el cielo con una paleta deslumbrante.\"\n",
    "model = TTS(language='ES', device=device)\n",
    "speaker_ids = model.hps.data.spk2id\n",
    "\n",
    "print(speaker_ids)\n",
    "\n",
    "output_path = 'es.wav'\n",
    "model.tts_to_file(text, speaker_ids['ES'], output_path, speed=speed)\n",
    "import IPython\n",
    "IPython.display.Audio(output_path)"
   ]
  }
 ],
 "metadata": {
  "kernelspec": {
   "display_name": "Python 3 (ipykernel)",
   "language": "python",
   "name": "python3"
  },
  "language_info": {
   "codemirror_mode": {
    "name": "ipython",
    "version": 3
   },
   "file_extension": ".py",
   "mimetype": "text/x-python",
   "name": "python",
   "nbconvert_exporter": "python",
   "pygments_lexer": "ipython3",
   "version": "3.11.9"
  }
 },
 "nbformat": 4,
 "nbformat_minor": 5
}
